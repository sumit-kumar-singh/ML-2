{
 "cells": [
  {
   "cell_type": "markdown",
   "metadata": {},
   "source": [
    "<b> K NEAREST NEIGHBOR ALGORITHM : <b>\n",
    "KNN algorithm is simplest supervised machine learning algorithm uses entire data set in its training set. For a unseen data what it does is searches entire data set for K most similar shortest distances. The data with more similar instance is returned as prediction. This is generally used for the classification problems where cluster of data exists and in which cluster the new data value will lies is determined by using nearest cluster to the data. If you are similar to your neighbour then you are one of them. Here K is the number of nearest neighbours. If k=3 then labels of three closest classes are checked and most common label is assigned to the testing data. It has industrial application as recomendation system of product based on browsing in Amazon app or similar product recomendation.\n",
    "Also in Automatic classifier as classifying documents containing similar topics. The distance is calculated by using Eculidian Distance formula( sqrtof_|(x2-x1)^2 + (y2-y1)^2 ) or Manhattan distance( mod|x2-x1| + mod|y2-y1| ) measured along axis at right angle. KNN is lazy learner as it doesn't has a discriminative function from training data but what is does it memorizes the training data. There is no learning phase in the algorithm. All things happens at the time of prediction."
   ]
  },
  {
   "cell_type": "code",
   "execution_count": 18,
   "metadata": {},
   "outputs": [],
   "source": [
    "# importing pandas library for representing data in tabular form (dataframes)\n",
    "import pandas as pd\n",
    "\n",
    "# importing numpy library for calulations and computational work (scientific calculation)\n",
    "import numpy as np\n",
    "\n",
    "# importing train_test_split a helper function to split allowed inputs into random train and test subsets \n",
    "from sklearn.model_selection import train_test_split\n",
    "\n",
    "# importing StandardScaler for scaling and regularization of the data set for non-skewness(mean and sd)\n",
    "from sklearn.preprocessing import StandardScaler\n",
    "\n",
    "# importing KNeighborsClassifier as Classifier implementing the k-nearest neighbors vote\n",
    "from sklearn.neighbors import KNeighborsClassifier\n",
    "\n",
    "# importing these for testing our model\n",
    "from sklearn.metrics import confusion_matrix\n",
    "from sklearn.metrics import f1_score\n",
    "from sklearn.metrics import accuracy_score        "
   ]
  },
  {
   "cell_type": "code",
   "execution_count": 19,
   "metadata": {},
   "outputs": [
    {
     "name": "stdout",
     "output_type": "stream",
     "text": [
      "Total Number Of Dataset :  768 \n",
      "\n",
      "   Pregnancies  Glucose  BloodPressure  SkinThickness  Insulin   BMI  \\\n",
      "0            6      148             72             35        0  33.6   \n",
      "1            1       85             66             29        0  26.6   \n",
      "2            8      183             64              0        0  23.3   \n",
      "3            1       89             66             23       94  28.1   \n",
      "4            0      137             40             35      168  43.1   \n",
      "\n",
      "   DiabetesPedigreeFunction  Age  Outcome  \n",
      "0                     0.627   50        1  \n",
      "1                     0.351   31        0  \n",
      "2                     0.672   32        1  \n",
      "3                     0.167   21        0  \n",
      "4                     2.288   33        1  \n"
     ]
    }
   ],
   "source": [
    "# getting our data set\n",
    "dataset = pd.read_csv(\"DataSet\\diabetes.csv\")\n",
    "print('Total Number Of Dataset : ', len(dataset), '\\n')\n",
    "print(dataset.head())"
   ]
  },
  {
   "cell_type": "code",
   "execution_count": 20,
   "metadata": {},
   "outputs": [],
   "source": [
    "# preprocessing data by replacing zeores with some similar values\n",
    "replace_zero_values = ['Glucose', 'BloodPressure', 'SkinThickness', 'Insulin', 'BMI']\n",
    "\n",
    "# first replacing with zeroes then by mean to make predictive data set and filling missing data \n",
    "for column in replace_zero_values:\n",
    "    dataset[column] = dataset[column].replace(0, np.NaN)\n",
    "    mean = int(dataset[column].mean(skipna=True))\n",
    "    dataset[column] = dataset[column].replace(np.NaN, mean)\n",
    "\n",
    "# print(dataset['Glucose']), print this to verify the data for missing and NaN values"
   ]
  },
  {
   "cell_type": "code",
   "execution_count": 31,
   "metadata": {},
   "outputs": [],
   "source": [
    "# spliting data into training data set and test data set\n",
    "# All 7 features in X dataframe\n",
    "X = dataset.iloc[:, 0:8] \n",
    "# 1 Outcome in y dataframe\n",
    "y = dataset.iloc[:, 8]\n",
    "\n",
    "X_train, X_test, y_train, y_test = train_test_split(X, y, random_state=0, test_size=.2)"
   ]
  },
  {
   "cell_type": "code",
   "execution_count": 33,
   "metadata": {},
   "outputs": [],
   "source": [
    "# scaling data in range of -1<data<1 for higher convergence rate (mean normalization)\n",
    "scaling_X = StandardScaler()\n",
    "X_train = scaling_X.fit_transform(X_train)\n",
    "X_test = scaling_X.transform(X_test)"
   ]
  },
  {
   "cell_type": "code",
   "execution_count": 36,
   "metadata": {},
   "outputs": [
    {
     "data": {
      "text/plain": [
       "KNeighborsClassifier(algorithm='auto', leaf_size=30, metric='euclidean',\n",
       "           metric_params=None, n_jobs=None, n_neighbors=11, p=2,\n",
       "           weights='uniform')"
      ]
     },
     "execution_count": 36,
     "metadata": {},
     "output_type": "execute_result"
    }
   ],
   "source": [
    "# define the model using KNN algo and fit the training data in the model\n",
    "# KNN classifier\n",
    "classifier = KNeighborsClassifier(n_neighbors=11, p=2, metric='euclidean')\n",
    "# Fitting the data in model\n",
    "classifier.fit(X_train, y_train)\n",
    "# why n_neighbors = 11\n",
    "# import math\n",
    "# math.sqrt(len(y_test)) = 12.409673645990857\n",
    "# for even output making odd neighbours"
   ]
  },
  {
   "cell_type": "code",
   "execution_count": 38,
   "metadata": {},
   "outputs": [
    {
     "data": {
      "text/plain": [
       "array([1, 0, 0, 1, 0, 0, 1, 1, 0, 0, 1, 1, 0, 0, 0, 0, 1, 0, 0, 0, 1, 0,\n",
       "       0, 0, 0, 0, 0, 1, 0, 0, 1, 0, 0, 1, 0, 1, 0, 0, 0, 1, 0, 0, 0, 1,\n",
       "       1, 0, 0, 0, 0, 0, 1, 0, 1, 1, 0, 0, 0, 1, 0, 1, 1, 0, 0, 1, 1, 1,\n",
       "       1, 0, 0, 0, 0, 0, 0, 1, 1, 0, 0, 1, 0, 0, 0, 0, 0, 0, 0, 0, 0, 0,\n",
       "       1, 0, 0, 0, 0, 0, 1, 0, 0, 1, 1, 1, 0, 0, 0, 0, 1, 1, 0, 1, 0, 1,\n",
       "       0, 0, 1, 1, 1, 1, 0, 0, 0, 1, 0, 0, 0, 0, 0, 0, 0, 0, 0, 0, 0, 0,\n",
       "       0, 0, 0, 1, 0, 0, 0, 0, 0, 1, 0, 0, 1, 0, 0, 0, 0, 0, 0, 0, 0, 0],\n",
       "      dtype=int64)"
      ]
     },
     "execution_count": 38,
     "metadata": {},
     "output_type": "execute_result"
    }
   ],
   "source": [
    "# predicting the test set results\n",
    "y_pred = classifier.predict(X_test)\n",
    "y_pred"
   ]
  },
  {
   "cell_type": "code",
   "execution_count": 41,
   "metadata": {},
   "outputs": [
    {
     "name": "stdout",
     "output_type": "stream",
     "text": [
      "Confusion Matrix : \n",
      " [[94 13]\n",
      " [15 32]]\n"
     ]
    }
   ],
   "source": [
    "# evaluating our model\n",
    "cm = confusion_matrix(y_test, y_pred)\n",
    "print('Confusion Matrix : \\n', cm)"
   ]
  },
  {
   "cell_type": "code",
   "execution_count": 42,
   "metadata": {},
   "outputs": [
    {
     "name": "stdout",
     "output_type": "stream",
     "text": [
      "F1 Score :  0.6956521739130436\n"
     ]
    }
   ],
   "source": [
    "# f1 score\n",
    "print('F1 Score : ', f1_score(y_test, y_pred))"
   ]
  },
  {
   "cell_type": "code",
   "execution_count": 53,
   "metadata": {},
   "outputs": [
    {
     "name": "stdout",
     "output_type": "stream",
     "text": [
      "Accuracy Score :  0.8181818181818182\n",
      "Percentage Accuracy Of Model :  81.81818181818183 %\n"
     ]
    }
   ],
   "source": [
    "# accuracy score\n",
    "print('Accuracy Score : ', accuracy_score(y_test, y_pred))\n",
    "prcnt = accuracy_score(y_test, y_pred) * 100\n",
    "print('Percentage Accuracy Of Model : ', prcnt ,'%')"
   ]
  },
  {
   "cell_type": "code",
   "execution_count": null,
   "metadata": {},
   "outputs": [],
   "source": []
  }
 ],
 "metadata": {
  "kernelspec": {
   "display_name": "Python 3",
   "language": "python",
   "name": "python3"
  },
  "language_info": {
   "codemirror_mode": {
    "name": "ipython",
    "version": 3
   },
   "file_extension": ".py",
   "mimetype": "text/x-python",
   "name": "python",
   "nbconvert_exporter": "python",
   "pygments_lexer": "ipython3",
   "version": "3.7.1"
  }
 },
 "nbformat": 4,
 "nbformat_minor": 2
}
