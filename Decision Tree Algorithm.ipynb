{
 "cells": [
  {
   "cell_type": "markdown",
   "metadata": {},
   "source": [
    "<B> DECISION TREE : <B> Decision tree is a tree shaped diagram used to determine a course of action. Each brach of the tree represents a possible decision or reaction or occurance. It can solve both problem of classification and regression. It is based on entropy which is measure of degree of randomness or unpredictability in datasets. Example collection of all animals of the forest. Decrease in entropy after spliting the dataset is called gain of information. Leaf node carries the classification or decision and the top most decision node is called root node. Formula for entropy calculation is sum of probability of each event to occur multiply with the log base2 of the same probability. As spliting increases the entropy decreases and lastly end up with the individual values or label in given by leaf node."
   ]
  },
  {
   "cell_type": "code",
   "execution_count": 1,
   "metadata": {},
   "outputs": [],
   "source": [
    "# importing libraries and their associated methods\n",
    "\n",
    "# importing pandas library for representing data in tabular form (dataframes)\n",
    "import pandas as pd\n",
    "\n",
    "# importing numpy library for calulations and computational work (scientific calculation)\n",
    "import numpy as np\n",
    "\n",
    "# importing these for testing our model\n",
    "from sklearn.metrics import accuracy_score\n",
    "\n",
    "# importing train_test_split a helper function to split allowed inputs into random train and test subsets \n",
    "from sklearn.model_selection import train_test_split\n",
    "\n",
    "# importing DecisionTreeClassifier algorithm for our model\n",
    "from sklearn.tree import DecisionTreeClassifier\n",
    "from sklearn import tree"
   ]
  },
  {
   "cell_type": "code",
   "execution_count": 12,
   "metadata": {},
   "outputs": [
    {
     "name": "stdout",
     "output_type": "stream",
     "text": [
      "Total Number Of Dataset :  614 \n",
      "\n",
      "    Loan_ID Gender Married Dependents     Education Self_Employed  \\\n",
      "0  LP001002   Male      No          0      Graduate            No   \n",
      "1  LP001003   Male     Yes          1      Graduate            No   \n",
      "2  LP001005   Male     Yes          0      Graduate           Yes   \n",
      "3  LP001006   Male     Yes          0  Not Graduate            No   \n",
      "4  LP001008   Male      No          0      Graduate            No   \n",
      "\n",
      "   ApplicantIncome  CoapplicantIncome  LoanAmount  Loan_Amount_Term  \\\n",
      "0             5849                0.0         NaN             360.0   \n",
      "1             4583             1508.0       128.0             360.0   \n",
      "2             3000                0.0        66.0             360.0   \n",
      "3             2583             2358.0       120.0             360.0   \n",
      "4             6000                0.0       141.0             360.0   \n",
      "\n",
      "   Credit_History Property_Area Loan_Status  \n",
      "0             1.0         Urban           Y  \n",
      "1             1.0         Rural           N  \n",
      "2             1.0         Urban           Y  \n",
      "3             1.0         Urban           Y  \n",
      "4             1.0         Urban           Y  \n"
     ]
    }
   ],
   "source": [
    "# getting our data set\n",
    "dataset = pd.read_csv(\"DataSet\\loanpaydata.csv\")\n",
    "print('Total Number Of Dataset : ', len(dataset), '\\n')\n",
    "print(dataset.head())"
   ]
  },
  {
   "cell_type": "code",
   "execution_count": 20,
   "metadata": {},
   "outputs": [
    {
     "name": "stdout",
     "output_type": "stream",
     "text": [
      "Length of Data :  614\n",
      "Shape of Data (rows X column) :  (614, 13)\n"
     ]
    }
   ],
   "source": [
    "# getting length and shape of the data\n",
    "print('Length of Data : ', len(dataset))\n",
    "print('Shape of Data (rows X column) : ', dataset.shape)"
   ]
  },
  {
   "cell_type": "code",
   "execution_count": 21,
   "metadata": {},
   "outputs": [],
   "source": [
    "# separating the target variables\n",
    "# independent variables\n",
    "X = dataset.values[:, 1:-1]\n",
    "# dependent variable\n",
    "Y = dataset.values[:, -1]"
   ]
  },
  {
   "cell_type": "code",
   "execution_count": 22,
   "metadata": {},
   "outputs": [],
   "source": [
    "# spliting dataset into train data and test data set\n",
    "X_train, X_test, y_train, y_test = train_test_split(X, Y, test_size=0.3, random_state=100)"
   ]
  },
  {
   "cell_type": "code",
   "execution_count": 24,
   "metadata": {},
   "outputs": [],
   "source": [
    "# function to perform training with entropy\n",
    "dt_entropy = DecisionTreeClassifier(criterion=\"entropy\", random_state=100, max_depth=3, min_samples_leaf=5)\n",
    "dt_entropy.fit(X_train, y_train)"
   ]
  },
  {
   "cell_type": "code",
   "execution_count": null,
   "metadata": {},
   "outputs": [],
   "source": [
    "# predicting the y from model\n",
    "y_predict = dt_entropy.predict(X_test)\n",
    "print(y_predict)"
   ]
  },
  {
   "cell_type": "code",
   "execution_count": null,
   "metadata": {},
   "outputs": [],
   "source": [
    "# checking accuracy\n",
    "print('Accuracy % is : ', accuracy_score(y_test, y_pred)*100)"
   ]
  }
 ],
 "metadata": {
  "kernelspec": {
   "display_name": "Python 3",
   "language": "python",
   "name": "python3"
  },
  "language_info": {
   "codemirror_mode": {
    "name": "ipython",
    "version": 3
   },
   "file_extension": ".py",
   "mimetype": "text/x-python",
   "name": "python",
   "nbconvert_exporter": "python",
   "pygments_lexer": "ipython3",
   "version": "3.7.1"
  }
 },
 "nbformat": 4,
 "nbformat_minor": 2
}
