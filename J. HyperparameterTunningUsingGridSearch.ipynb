{
 "cells": [
  {
   "cell_type": "code",
   "execution_count": 6,
   "metadata": {},
   "outputs": [],
   "source": [
    "# importing python libraries\n",
    "import pandas as pd\n",
    "import numpy as np\n",
    "import matplotlib.pyplot as plt\n",
    "\n",
    "# importing model, metrecis and preprocessing libs\n",
    "from sklearn.model_selection import train_test_split\n",
    "from sklearn.metrics import r2_score\n",
    "from sklearn.preprocessing import StandardScaler\n",
    "\n",
    "# importing linear model for training data\n",
    "from sklearn.linear_model import Lasso\n",
    "from sklearn.neighbors import KNeighborsRegressor\n",
    "from sklearn.tree import DecisionTreeRegressor\n",
    "from sklearn.svm import SVR\n",
    "\n",
    "# importing GridSearchCV\n",
    "from sklearn.model_selection import GridSearchCV\n",
    "\n",
    "# importing warning\n",
    "import warnings\n",
    "warnings.filterwarnings('ignore')"
   ]
  },
  {
   "cell_type": "code",
   "execution_count": 8,
   "metadata": {},
   "outputs": [
    {
     "data": {
      "text/html": [
       "<div>\n",
       "<style scoped>\n",
       "    .dataframe tbody tr th:only-of-type {\n",
       "        vertical-align: middle;\n",
       "    }\n",
       "\n",
       "    .dataframe tbody tr th {\n",
       "        vertical-align: top;\n",
       "    }\n",
       "\n",
       "    .dataframe thead th {\n",
       "        text-align: right;\n",
       "    }\n",
       "</style>\n",
       "<table border=\"1\" class=\"dataframe\">\n",
       "  <thead>\n",
       "    <tr style=\"text-align: right;\">\n",
       "      <th></th>\n",
       "      <th>mpg</th>\n",
       "      <th>cylinders</th>\n",
       "      <th>displacement</th>\n",
       "      <th>horsepower</th>\n",
       "      <th>weight</th>\n",
       "      <th>acceleration</th>\n",
       "      <th>age</th>\n",
       "    </tr>\n",
       "  </thead>\n",
       "  <tbody>\n",
       "    <tr>\n",
       "      <th>0</th>\n",
       "      <td>29.0</td>\n",
       "      <td>4</td>\n",
       "      <td>98.0</td>\n",
       "      <td>83</td>\n",
       "      <td>2219</td>\n",
       "      <td>16.5</td>\n",
       "      <td>45</td>\n",
       "    </tr>\n",
       "    <tr>\n",
       "      <th>1</th>\n",
       "      <td>30.0</td>\n",
       "      <td>4</td>\n",
       "      <td>88.0</td>\n",
       "      <td>76</td>\n",
       "      <td>2065</td>\n",
       "      <td>14.5</td>\n",
       "      <td>48</td>\n",
       "    </tr>\n",
       "    <tr>\n",
       "      <th>2</th>\n",
       "      <td>12.0</td>\n",
       "      <td>8</td>\n",
       "      <td>455.0</td>\n",
       "      <td>225</td>\n",
       "      <td>4951</td>\n",
       "      <td>11.0</td>\n",
       "      <td>46</td>\n",
       "    </tr>\n",
       "    <tr>\n",
       "      <th>3</th>\n",
       "      <td>20.0</td>\n",
       "      <td>4</td>\n",
       "      <td>130.0</td>\n",
       "      <td>102</td>\n",
       "      <td>3150</td>\n",
       "      <td>15.7</td>\n",
       "      <td>43</td>\n",
       "    </tr>\n",
       "    <tr>\n",
       "      <th>4</th>\n",
       "      <td>19.0</td>\n",
       "      <td>6</td>\n",
       "      <td>232.0</td>\n",
       "      <td>100</td>\n",
       "      <td>2634</td>\n",
       "      <td>13.0</td>\n",
       "      <td>48</td>\n",
       "    </tr>\n",
       "  </tbody>\n",
       "</table>\n",
       "</div>"
      ],
      "text/plain": [
       "    mpg  cylinders  displacement  horsepower  weight  acceleration  age\n",
       "0  29.0          4          98.0          83    2219          16.5   45\n",
       "1  30.0          4          88.0          76    2065          14.5   48\n",
       "2  12.0          8         455.0         225    4951          11.0   46\n",
       "3  20.0          4         130.0         102    3150          15.7   43\n",
       "4  19.0          6         232.0         100    2634          13.0   48"
      ]
     },
     "execution_count": 8,
     "metadata": {},
     "output_type": "execute_result"
    }
   ],
   "source": [
    "# loading automobile processed data\n",
    "automobile_df = pd.read_csv('datasets/auto-mgp-processed.csv')\n",
    "automobile_df.head()"
   ]
  },
  {
   "cell_type": "code",
   "execution_count": 10,
   "metadata": {},
   "outputs": [],
   "source": [
    "# setting up data\n",
    "X = automobile_df.drop(['mpg', 'age'], axis=1)\n",
    "Y = automobile_df['mpg']\n",
    "\n",
    "x_train, x_test, y_train, y_test = train_test_split(X, Y, test_size=0.2)"
   ]
  },
  {
   "cell_type": "code",
   "execution_count": 11,
   "metadata": {},
   "outputs": [
    {
     "data": {
      "text/plain": [
       "{'alpha': 1.0}"
      ]
     },
     "execution_count": 11,
     "metadata": {},
     "output_type": "execute_result"
    }
   ],
   "source": [
    "# using alpha as hyperparameters for Lasso model\n",
    "parameters = {'alpha' : [0.2, 0.4, 0.6, 0.8, 1.0]}\n",
    "\n",
    "grid_search = GridSearchCV(Lasso(), parameters, cv=3, return_train_score=True)\n",
    "grid_search.fit(x_train, y_train)\n",
    "\n",
    "grid_search.best_params_"
   ]
  },
  {
   "cell_type": "code",
   "execution_count": 12,
   "metadata": {},
   "outputs": [
    {
     "name": "stdout",
     "output_type": "stream",
     "text": [
      "Parameters : {'alpha': 0.2}\n",
      "Mean Test Score : 0.6732741810871253\n",
      "Rank Test Score: 5\n",
      "Parameters : {'alpha': 0.4}\n",
      "Mean Test Score : 0.6746188276918939\n",
      "Rank Test Score: 4\n",
      "Parameters : {'alpha': 0.6}\n",
      "Mean Test Score : 0.6753424519029674\n",
      "Rank Test Score: 3\n",
      "Parameters : {'alpha': 0.8}\n",
      "Mean Test Score : 0.6758361451742232\n",
      "Rank Test Score: 2\n",
      "Parameters : {'alpha': 1.0}\n",
      "Mean Test Score : 0.6759183525863396\n",
      "Rank Test Score: 1\n"
     ]
    }
   ],
   "source": [
    "# finding out best alpha value for lasso model\n",
    "for i in range(len(parameters['alpha'])):\n",
    "    print('Parameters :', grid_search.cv_results_['params'][i])\n",
    "    print('Mean Test Score :', grid_search.cv_results_['mean_test_score'][i])\n",
    "    print('Rank Test Score:', grid_search.cv_results_['rank_test_score'][i])"
   ]
  },
  {
   "cell_type": "code",
   "execution_count": 13,
   "metadata": {},
   "outputs": [
    {
     "data": {
      "text/plain": [
       "Lasso(alpha=1.0, copy_X=True, fit_intercept=True, max_iter=1000,\n",
       "   normalize=False, positive=False, precompute=False, random_state=None,\n",
       "   selection='cyclic', tol=0.0001, warm_start=False)"
      ]
     },
     "execution_count": 13,
     "metadata": {},
     "output_type": "execute_result"
    }
   ],
   "source": [
    "# creating lasso model\n",
    "lasso_model = Lasso(alpha=grid_search.best_params_['alpha'])\n",
    "lasso_model.fit(x_train, y_train)"
   ]
  },
  {
   "cell_type": "code",
   "execution_count": 14,
   "metadata": {},
   "outputs": [
    {
     "name": "stdout",
     "output_type": "stream",
     "text": [
      "Training Score : 0.6890114894290853\n",
      "Test Score:  0.772307344733106\n"
     ]
    }
   ],
   "source": [
    "# predicting y using x_test\n",
    "y_pred = lasso_model.predict(x_test)\n",
    "print('Training Score :', lasso_model.score(x_train, y_train))\n",
    "print('Test Score: ', r2_score(y_test, y_pred))"
   ]
  },
  {
   "cell_type": "code",
   "execution_count": null,
   "metadata": {},
   "outputs": [],
   "source": []
  },
  {
   "cell_type": "code",
   "execution_count": 19,
   "metadata": {},
   "outputs": [
    {
     "data": {
      "text/plain": [
       "{'n_neighbors': 25}"
      ]
     },
     "execution_count": 19,
     "metadata": {},
     "output_type": "execute_result"
    }
   ],
   "source": [
    "# using hyperparameter tunning for KNeighborsRegressor\n",
    "parameters = {'n_neighbors': [10, 12, 14, 18, 20, 25, 30, 35, 50]}\n",
    "\n",
    "grid_search = GridSearchCV(KNeighborsRegressor(), parameters, cv=3, return_train_score=True)\n",
    "grid_search.fit(x_train, y_train)\n",
    "\n",
    "grid_search.best_params_"
   ]
  },
  {
   "cell_type": "code",
   "execution_count": 20,
   "metadata": {},
   "outputs": [
    {
     "name": "stdout",
     "output_type": "stream",
     "text": [
      "Parameters : {'n_neighbors': 10}\n",
      "Mean Test Score : 0.6842393573776687\n",
      "Rank Test Score: 5\n",
      "Parameters : {'n_neighbors': 12}\n",
      "Mean Test Score : 0.6807448647865456\n",
      "Rank Test Score: 8\n",
      "Parameters : {'n_neighbors': 14}\n",
      "Mean Test Score : 0.671961361052906\n",
      "Rank Test Score: 9\n",
      "Parameters : {'n_neighbors': 18}\n",
      "Mean Test Score : 0.681241922718569\n",
      "Rank Test Score: 7\n",
      "Parameters : {'n_neighbors': 20}\n",
      "Mean Test Score : 0.6851741635670614\n",
      "Rank Test Score: 4\n",
      "Parameters : {'n_neighbors': 25}\n",
      "Mean Test Score : 0.6923198378783147\n",
      "Rank Test Score: 1\n",
      "Parameters : {'n_neighbors': 30}\n",
      "Mean Test Score : 0.6902476215584789\n",
      "Rank Test Score: 2\n",
      "Parameters : {'n_neighbors': 35}\n",
      "Mean Test Score : 0.6883173657885497\n",
      "Rank Test Score: 3\n",
      "Parameters : {'n_neighbors': 50}\n",
      "Mean Test Score : 0.6812556024982587\n",
      "Rank Test Score: 6\n"
     ]
    }
   ],
   "source": [
    "# finding out best n_neighbors value for this model\n",
    "for i in range(len(parameters['n_neighbors'])):\n",
    "    print('Parameters :', grid_search.cv_results_['params'][i])\n",
    "    print('Mean Test Score :', grid_search.cv_results_['mean_test_score'][i])\n",
    "    print('Rank Test Score:', grid_search.cv_results_['rank_test_score'][i])"
   ]
  },
  {
   "cell_type": "code",
   "execution_count": 23,
   "metadata": {},
   "outputs": [
    {
     "data": {
      "text/plain": [
       "KNeighborsRegressor(algorithm='auto', leaf_size=30, metric='minkowski',\n",
       "          metric_params=None, n_jobs=None, n_neighbors=25, p=2,\n",
       "          weights='uniform')"
      ]
     },
     "execution_count": 23,
     "metadata": {},
     "output_type": "execute_result"
    }
   ],
   "source": [
    "# creating KNeighbors model\n",
    "kneighbors_model = KNeighborsRegressor(n_neighbors=grid_search.best_params_['n_neighbors'])\n",
    "kneighbors_model.fit(x_train, y_train)"
   ]
  },
  {
   "cell_type": "code",
   "execution_count": 24,
   "metadata": {
    "scrolled": true
   },
   "outputs": [
    {
     "name": "stdout",
     "output_type": "stream",
     "text": [
      "Training Score : 0.715467493979026\n",
      "Test Score:  0.7566864822386881\n"
     ]
    }
   ],
   "source": [
    "# predicting y using x_test\n",
    "y_pred = kneighbors_model.predict(x_test)\n",
    "print('Training Score :', kneighbors_model.score(x_train, y_train))\n",
    "print('Test Score: ', r2_score(y_test, y_pred))"
   ]
  },
  {
   "cell_type": "code",
   "execution_count": null,
   "metadata": {},
   "outputs": [],
   "source": []
  },
  {
   "cell_type": "code",
   "execution_count": 25,
   "metadata": {},
   "outputs": [
    {
     "data": {
      "text/plain": [
       "{'max_depth': 2}"
      ]
     },
     "execution_count": 25,
     "metadata": {},
     "output_type": "execute_result"
    }
   ],
   "source": [
    "# using hyperparameter tunning for DecisionTree\n",
    "parameters = {'max_depth': [1, 2, 3, 4, 5, 6, 7, 8]}\n",
    "\n",
    "grid_search = GridSearchCV(DecisionTreeRegressor(), parameters, cv=3, return_train_score=True)\n",
    "grid_search.fit(x_train, y_train)\n",
    "\n",
    "grid_search.best_params_"
   ]
  },
  {
   "cell_type": "code",
   "execution_count": 26,
   "metadata": {},
   "outputs": [
    {
     "name": "stdout",
     "output_type": "stream",
     "text": [
      "Parameters : {'max_depth': 1}\n",
      "Mean Test Score : 0.523863303455837\n",
      "Rank Test Score: 8\n",
      "Parameters : {'max_depth': 2}\n",
      "Mean Test Score : 0.674120549832129\n",
      "Rank Test Score: 1\n",
      "Parameters : {'max_depth': 3}\n",
      "Mean Test Score : 0.6736212910253409\n",
      "Rank Test Score: 2\n",
      "Parameters : {'max_depth': 4}\n",
      "Mean Test Score : 0.6525172921683343\n",
      "Rank Test Score: 3\n",
      "Parameters : {'max_depth': 5}\n",
      "Mean Test Score : 0.6301241051580287\n",
      "Rank Test Score: 4\n",
      "Parameters : {'max_depth': 6}\n",
      "Mean Test Score : 0.583614697834583\n",
      "Rank Test Score: 5\n",
      "Parameters : {'max_depth': 7}\n",
      "Mean Test Score : 0.5609137907931278\n",
      "Rank Test Score: 7\n",
      "Parameters : {'max_depth': 8}\n",
      "Mean Test Score : 0.5705077786215786\n",
      "Rank Test Score: 6\n"
     ]
    }
   ],
   "source": [
    "# finding out best max depth value for this model\n",
    "for i in range(len(parameters['max_depth'])):\n",
    "    print('Parameters :', grid_search.cv_results_['params'][i])\n",
    "    print('Mean Test Score :', grid_search.cv_results_['mean_test_score'][i])\n",
    "    print('Rank Test Score:', grid_search.cv_results_['rank_test_score'][i])"
   ]
  },
  {
   "cell_type": "code",
   "execution_count": 27,
   "metadata": {},
   "outputs": [
    {
     "data": {
      "text/plain": [
       "DecisionTreeRegressor(criterion='mse', max_depth=2, max_features=None,\n",
       "           max_leaf_nodes=None, min_impurity_decrease=0.0,\n",
       "           min_impurity_split=None, min_samples_leaf=1,\n",
       "           min_samples_split=2, min_weight_fraction_leaf=0.0,\n",
       "           presort=False, random_state=None, splitter='best')"
      ]
     },
     "execution_count": 27,
     "metadata": {},
     "output_type": "execute_result"
    }
   ],
   "source": [
    "# creating DecisonTreeRegressor model\n",
    "decisiontree_model = DecisionTreeRegressor(max_depth=grid_search.best_params_['max_depth'])\n",
    "decisiontree_model.fit(x_train, y_train)"
   ]
  },
  {
   "cell_type": "code",
   "execution_count": 28,
   "metadata": {},
   "outputs": [
    {
     "name": "stdout",
     "output_type": "stream",
     "text": [
      "Training Score : 0.7242240415033101\n",
      "Test Score:  0.7482514861279168\n"
     ]
    }
   ],
   "source": [
    "# predicting y using x_test\n",
    "y_pred = decisiontree_model.predict(x_test)\n",
    "print('Training Score :', decisiontree_model.score(x_train, y_train))\n",
    "print('Test Score: ', r2_score(y_test, y_pred))"
   ]
  },
  {
   "cell_type": "code",
   "execution_count": null,
   "metadata": {},
   "outputs": [],
   "source": []
  },
  {
   "cell_type": "code",
   "execution_count": 29,
   "metadata": {},
   "outputs": [
    {
     "data": {
      "text/plain": [
       "{'C': 0.3, 'epsilon': 0.3}"
      ]
     },
     "execution_count": 29,
     "metadata": {},
     "output_type": "execute_result"
    }
   ],
   "source": [
    "# using multiple parameters\n",
    "# using hyperparameter tunning for SVR\n",
    "parameters = {'epsilon' : [0.05, 0.1, 0.2, 0.3], 'C' : [0.2, 0.3]}\n",
    "\n",
    "grid_search = GridSearchCV(SVR(kernel='linear'), parameters, cv=3, return_train_score=True)\n",
    "grid_search.fit(x_train, y_train)\n",
    "\n",
    "grid_search.best_params_"
   ]
  },
  {
   "cell_type": "code",
   "execution_count": 30,
   "metadata": {},
   "outputs": [
    {
     "data": {
      "text/plain": [
       "SVR(C=0.3, cache_size=200, coef0=0.0, degree=3, epsilon=0.3,\n",
       "  gamma='auto_deprecated', kernel='linear', max_iter=-1, shrinking=True,\n",
       "  tol=0.001, verbose=False)"
      ]
     },
     "execution_count": 30,
     "metadata": {},
     "output_type": "execute_result"
    }
   ],
   "source": [
    "# creating SVR model\n",
    "svr_model = SVR(kernel='linear', epsilon=grid_search.best_params_['epsilon'], C=grid_search.best_params_['C'])\n",
    "svr_model.fit(x_train, y_train)"
   ]
  },
  {
   "cell_type": "code",
   "execution_count": 31,
   "metadata": {},
   "outputs": [
    {
     "name": "stdout",
     "output_type": "stream",
     "text": [
      "Training Score : 0.6738472921689758\n",
      "Test Score:  0.7618596878455268\n"
     ]
    }
   ],
   "source": [
    "# predicting y using x_test\n",
    "y_pred = svr_model.predict(x_test)\n",
    "print('Training Score :', svr_model.score(x_train, y_train))\n",
    "print('Test Score: ', r2_score(y_test, y_pred))"
   ]
  },
  {
   "cell_type": "code",
   "execution_count": null,
   "metadata": {},
   "outputs": [],
   "source": []
  }
 ],
 "metadata": {
  "kernelspec": {
   "display_name": "Python 3",
   "language": "python",
   "name": "python3"
  },
  "language_info": {
   "codemirror_mode": {
    "name": "ipython",
    "version": 3
   },
   "file_extension": ".py",
   "mimetype": "text/x-python",
   "name": "python",
   "nbconvert_exporter": "python",
   "pygments_lexer": "ipython3",
   "version": "3.7.3"
  }
 },
 "nbformat": 4,
 "nbformat_minor": 2
}
