{
 "cells": [
  {
   "cell_type": "markdown",
   "metadata": {},
   "source": [
    "<b>WORLDCUP-2019 WINNER PREDICTION USING LOGISTIC REGRESSION <b>\n",
    "    \n",
    "    Participating Team:\n",
    "    1.  India\n",
    "    2.  South Africa\n",
    "    3.  Australia\n",
    "    4.  England\n",
    "    5.  New Zealand\n",
    "    6.  Pakistan\n",
    "    7.  Bangladesh\n",
    "    8.  Sri Lanka\n",
    "    9.  Afghannistan\n",
    "    10. West Indies\n",
    "    \n",
    "    Parameters Taken In Considerations:\n",
    "    Batting Average, Bowling Economy, Previous Win/Loss Data\n",
    " "
   ]
  },
  {
   "cell_type": "code",
   "execution_count": null,
   "metadata": {},
   "outputs": [],
   "source": []
  }
 ],
 "metadata": {
  "kernelspec": {
   "display_name": "Python 3",
   "language": "python",
   "name": "python3"
  },
  "language_info": {
   "codemirror_mode": {
    "name": "ipython",
    "version": 3
   },
   "file_extension": ".py",
   "mimetype": "text/x-python",
   "name": "python",
   "nbconvert_exporter": "python",
   "pygments_lexer": "ipython3",
   "version": "3.7.1"
  }
 },
 "nbformat": 4,
 "nbformat_minor": 2
}
