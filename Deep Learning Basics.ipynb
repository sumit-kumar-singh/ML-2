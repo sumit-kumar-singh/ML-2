{
 "cells": [
  {
   "cell_type": "markdown",
   "metadata": {},
   "source": [
    "<B>TENSORFLOW is framework for neural networks.<B>"
   ]
  },
  {
   "cell_type": "code",
   "execution_count": 64,
   "metadata": {},
   "outputs": [
    {
     "name": "stdout",
     "output_type": "stream",
     "text": [
      "Latest Version Of TensorFlow : 1.13.1\n"
     ]
    }
   ],
   "source": [
    "# importing tensorflow\n",
    "import tensorflow as tf\n",
    "print('Latest Version Of TensorFlow :', tf.__version__)"
   ]
  },
  {
   "cell_type": "code",
   "execution_count": 48,
   "metadata": {},
   "outputs": [
    {
     "name": "stdout",
     "output_type": "stream",
     "text": [
      "Tensor(\"Const_38:0\", shape=(), dtype=string) Tensor(\"Const_39:0\", shape=(), dtype=string)\n"
     ]
    }
   ],
   "source": [
    "# constants in tensorflow\n",
    "hello_msg = tf.constant(\"Hello\")\n",
    "world_msg = tf.constant(\"World\")\n",
    "print(hello_msg, world_msg)\n",
    "# it will print type and number of times it gets executed"
   ]
  },
  {
   "cell_type": "code",
   "execution_count": 49,
   "metadata": {},
   "outputs": [
    {
     "name": "stdout",
     "output_type": "stream",
     "text": [
      "b'HelloWorld'\n"
     ]
    }
   ],
   "source": [
    "# creating sessions\n",
    "sess = tf.Session()\n",
    "result = sess.run(hello_msg+world_msg)\n",
    "print(result)"
   ]
  },
  {
   "cell_type": "code",
   "execution_count": 50,
   "metadata": {},
   "outputs": [
    {
     "name": "stdout",
     "output_type": "stream",
     "text": [
      "50\n"
     ]
    }
   ],
   "source": [
    "# adding two number\n",
    "num_1 = tf.constant(30)\n",
    "num_2 = tf.constant(20)\n",
    "print(sess.run(num_1+num_2))\n",
    "# printing addition of two number"
   ]
  },
  {
   "cell_type": "code",
   "execution_count": 51,
   "metadata": {},
   "outputs": [],
   "source": [
    "# creating constant\n",
    "const = tf.constant(50)\n",
    "\n",
    "# creating matrix\n",
    "matrix = tf.fill((5, 5), 10)\n",
    "\n",
    "# creating zero matrix\n",
    "zeros = tf.zeros((5, 5))\n",
    "\n",
    "# creating ones matrix\n",
    "ones = tf.ones((5, 5))\n",
    "\n",
    "# creating normal random number\n",
    "rand_normal = tf.random_normal((5, 5), mean=0, stddev=1.0)\n",
    "\n",
    "# creating uniform random number\n",
    "rand_uniform = tf.random_uniform((5, 5), minval=0, maxval=1)"
   ]
  },
  {
   "cell_type": "code",
   "execution_count": 52,
   "metadata": {},
   "outputs": [
    {
     "name": "stdout",
     "output_type": "stream",
     "text": [
      "50 \n",
      "\n",
      "[[10 10 10 10 10]\n",
      " [10 10 10 10 10]\n",
      " [10 10 10 10 10]\n",
      " [10 10 10 10 10]\n",
      " [10 10 10 10 10]] \n",
      "\n",
      "[[0. 0. 0. 0. 0.]\n",
      " [0. 0. 0. 0. 0.]\n",
      " [0. 0. 0. 0. 0.]\n",
      " [0. 0. 0. 0. 0.]\n",
      " [0. 0. 0. 0. 0.]] \n",
      "\n",
      "[[1. 1. 1. 1. 1.]\n",
      " [1. 1. 1. 1. 1.]\n",
      " [1. 1. 1. 1. 1.]\n",
      " [1. 1. 1. 1. 1.]\n",
      " [1. 1. 1. 1. 1.]] \n",
      "\n",
      "[[ 0.72620076  0.55799747 -1.071955    1.6124803   0.6486945 ]\n",
      " [-0.3972331  -0.91477966  2.0095208   2.0586572  -0.8646025 ]\n",
      " [-1.0094838   0.8284096   1.5198699   0.43955606 -0.53661   ]\n",
      " [-0.5786599   0.18367922  0.4231522  -1.0018035   0.8040901 ]\n",
      " [-0.7081377   1.428712    0.15139827  0.6869401  -0.8872181 ]] \n",
      "\n",
      "[[0.5947547  0.6374872  0.8814709  0.93572724 0.5373421 ]\n",
      " [0.39167047 0.65253806 0.00268316 0.24993455 0.33792543]\n",
      " [0.89950264 0.52083516 0.6723589  0.72520185 0.33574057]\n",
      " [0.81035686 0.12462986 0.38780463 0.17089903 0.8631289 ]\n",
      " [0.73965645 0.41716278 0.6571119  0.36525714 0.5863888 ]] \n",
      "\n"
     ]
    }
   ],
   "source": [
    "# storing all these in a list\n",
    "my_ops = [const, matrix, zeros, ones, rand_normal, rand_uniform]\n",
    "\n",
    "# printing all the values using interactive session\n",
    "sess = tf.InteractiveSession()\n",
    "for op in my_ops:\n",
    "    print(sess.run(op), '\\n')"
   ]
  },
  {
   "cell_type": "code",
   "execution_count": 53,
   "metadata": {},
   "outputs": [
    {
     "name": "stdout",
     "output_type": "stream",
     "text": [
      "50 \n",
      "\n",
      "[[10 10 10 10 10]\n",
      " [10 10 10 10 10]\n",
      " [10 10 10 10 10]\n",
      " [10 10 10 10 10]\n",
      " [10 10 10 10 10]] \n",
      "\n",
      "[[0. 0. 0. 0. 0.]\n",
      " [0. 0. 0. 0. 0.]\n",
      " [0. 0. 0. 0. 0.]\n",
      " [0. 0. 0. 0. 0.]\n",
      " [0. 0. 0. 0. 0.]] \n",
      "\n",
      "[[1. 1. 1. 1. 1.]\n",
      " [1. 1. 1. 1. 1.]\n",
      " [1. 1. 1. 1. 1.]\n",
      " [1. 1. 1. 1. 1.]\n",
      " [1. 1. 1. 1. 1.]] \n",
      "\n",
      "[[-0.00692973  0.9036652   0.08345085 -0.48711884  0.36867094]\n",
      " [ 0.10991668  0.45705023 -0.9448428  -0.5124498   0.1672232 ]\n",
      " [ 1.0433977   0.5093578  -0.6056914   1.2643964   0.3353032 ]\n",
      " [ 1.4839929   0.4615967   0.11373381 -1.8238255   1.4719492 ]\n",
      " [-1.3920562  -0.5853498   0.08097904  1.9111977  -1.6687627 ]] \n",
      "\n",
      "[[0.97105515 0.9036578  0.11032939 0.07761061 0.37563086]\n",
      " [0.80000556 0.5368277  0.45164096 0.8421571  0.0372839 ]\n",
      " [0.42081285 0.5704504  0.7534963  0.51646626 0.17272723]\n",
      " [0.9295032  0.9926239  0.26440787 0.68124354 0.8117119 ]\n",
      " [0.48357153 0.1717695  0.37065208 0.62691855 0.4103763 ]] \n",
      "\n"
     ]
    }
   ],
   "source": [
    "# eval method for printing\n",
    "for op in my_ops:\n",
    "    print(op.eval(), '\\n')\n",
    "# same output as above\n",
    "\n",
    "# closing session\n",
    "sess.close()"
   ]
  },
  {
   "cell_type": "code",
   "execution_count": 56,
   "metadata": {},
   "outputs": [
    {
     "name": "stdout",
     "output_type": "stream",
     "text": [
      "<bound method Tensor.get_shape of <tf.Tensor 'Const_47:0' shape=(2, 2) dtype=int32>>\n",
      "<bound method Tensor.get_shape of <tf.Tensor 'Const_48:0' shape=(2, 1) dtype=int32>> \n",
      "\n",
      "[[210]\n",
      " [430]]\n",
      "<function get_default_graph at 0x0000000007713D90>\n"
     ]
    }
   ],
   "source": [
    "# matrix multiplication in tensor\n",
    "m_1 = tf.constant([[1, 2], [3, 4]])\n",
    "m_2 = tf.constant([[10], [100]])\n",
    "print(m_1.get_shape)\n",
    "print(m_2.get_shape, '\\n')\n",
    "\n",
    "# multiplying using matmul()\n",
    "result = tf.matmul(m_1, m_2)\n",
    "sess = tf.InteractiveSession()\n",
    "print(sess.run(result))\n",
    "\n",
    "# location of default graph in memory\n",
    "print(tf.get_default_graph)\n",
    "# closing session\n",
    "sess.close()"
   ]
  },
  {
   "cell_type": "code",
   "execution_count": 62,
   "metadata": {},
   "outputs": [
    {
     "name": "stdout",
     "output_type": "stream",
     "text": [
      "<tensorflow.python.framework.ops.Graph object at 0x0000000015DE36A0>\n",
      "<tensorflow.python.framework.ops.Graph object at 0x000000001200CD68>\n"
     ]
    }
   ],
   "source": [
    "# graphs in tensor which gets created in backend\n",
    "graph_1 = tf.Graph()\n",
    "print(graph_1)\n",
    "\n",
    "# making graph_1 it as default graph \n",
    "graph_1 = tf.get_default_graph()\n",
    "print(graph_1)"
   ]
  },
  {
   "cell_type": "code",
   "execution_count": null,
   "metadata": {},
   "outputs": [],
   "source": []
  },
  {
   "cell_type": "code",
   "execution_count": null,
   "metadata": {},
   "outputs": [],
   "source": []
  }
 ],
 "metadata": {
  "kernelspec": {
   "display_name": "Python 3",
   "language": "python",
   "name": "python3"
  },
  "language_info": {
   "codemirror_mode": {
    "name": "ipython",
    "version": 3
   },
   "file_extension": ".py",
   "mimetype": "text/x-python",
   "name": "python",
   "nbconvert_exporter": "python",
   "pygments_lexer": "ipython3",
   "version": "3.7.3"
  }
 },
 "nbformat": 4,
 "nbformat_minor": 2
}
